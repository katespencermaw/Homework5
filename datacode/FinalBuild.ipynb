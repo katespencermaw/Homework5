{
 "cells": [
  {
   "cell_type": "code",
   "execution_count": 1,
   "metadata": {},
   "outputs": [],
   "source": [
    "import pandas as pd\n",
    "\n",
    "# Load cleaned ACS and Medicaid expansion datasets\n",
    "acs_df = pd.read_csv('/Users/kathrynmawhinney/Documents/GitHub/Homework5/data/output/final_insurance.csv')\n",
    "medicaid_df = pd.read_csv('/Users/kathrynmawhinney/Documents/GitHub/Homework5/data/output/medicaid.csv')\n",
    "\n",
    "# Merge ACS and Medicaid expansion data\n",
    "acs_df = acs_df.rename(columns={'state': 'State'})\n",
    "merged_df = acs_df.merge(medicaid_df, how='left', on='State')\n",
    "\n",
    "# Create 'expand_year' and 'expand' flags\n",
    "merged_df['expand_year'] = merged_df['expanded'].apply(lambda x: 2014 if x else None)\n",
    "merged_df['expand'] = merged_df.apply(\n",
    "    lambda row: row['year'] >= row['expand_year'] if pd.notnull(row['expand_year']) else False,\n",
    "    axis=1\n",
    ")\n",
    "\n",
    "# Rename for clarity\n",
    "merged_df = merged_df.rename(columns={'expanded': 'expand_ever'})\n",
    "\n",
    "# Save merged output\n",
    "merged_df.to_csv('/Users/kathrynmawhinney/Documents/GitHub/Homework5/data/output/final_data.csv', index=False)"
   ]
  }
 ],
 "metadata": {
  "kernelspec": {
   "display_name": "base",
   "language": "python",
   "name": "python3"
  },
  "language_info": {
   "codemirror_mode": {
    "name": "ipython",
    "version": 3
   },
   "file_extension": ".py",
   "mimetype": "text/x-python",
   "name": "python",
   "nbconvert_exporter": "python",
   "pygments_lexer": "ipython3",
   "version": "3.12.7"
  }
 },
 "nbformat": 4,
 "nbformat_minor": 2
}
