{
 "cells": [
  {
   "cell_type": "code",
   "execution_count": 3,
   "metadata": {},
   "outputs": [],
   "source": [
    "import pandas as pd\n",
    "from datetime import datetime"
   ]
  },
  {
   "cell_type": "code",
   "execution_count": 7,
   "metadata": {},
   "outputs": [],
   "source": [
    "kff_dat = pd.read_csv(\n",
    "    '/Users/kathrynmawhinney/Documents/GitHub/Homework5/data/input/KFF_medicaid_expansion_2019.csv',\n",
    "    skiprows=2,\n",
    "    nrows=53,\n",
    "    header=None\n",
    ")\n",
    "\n",
    "# Now rename columns correctly\n",
    "kff_dat.columns = ['State', 'Abbreviation', 'Expansion Status', 'Description']\n",
    "\n",
    "# Create binary flag\n",
    "kff_dat['expanded'] = kff_dat['Expansion Status'] == 'Adopted and implemented'\n",
    "\n",
    "# Save output\n",
    "kff_dat[['State', 'expanded']].to_csv(\n",
    "    '/Users/kathrynmawhinney/Documents/GitHub/Homework5/data/output/medicaid.csv',\n",
    "    index=False\n",
    ")"
   ]
  }
 ],
 "metadata": {
  "kernelspec": {
   "display_name": "base",
   "language": "python",
   "name": "python3"
  },
  "language_info": {
   "codemirror_mode": {
    "name": "ipython",
    "version": 3
   },
   "file_extension": ".py",
   "mimetype": "text/x-python",
   "name": "python",
   "nbconvert_exporter": "python",
   "pygments_lexer": "ipython3",
   "version": "3.12.7"
  }
 },
 "nbformat": 4,
 "nbformat_minor": 2
}
