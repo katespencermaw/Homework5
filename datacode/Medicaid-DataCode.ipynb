{
 "cells": [
  {
   "cell_type": "code",
   "execution_count": 1,
   "metadata": {},
   "outputs": [],
   "source": [
    "import pandas as pd\n",
    "from dateutil.parser import parse\n",
    "import re\n",
    "\n",
    "# Load data\n",
    "kff_dat = pd.read_csv('data/input/KFF_medicaid_expansion_2019.csv')\n",
    "\n",
    "# Clean data\n",
    "kff_dat['expanded'] = kff_dat['Expansion Status'] == 'Adopted and Implemented'\n",
    "kff_dat['Description'] = kff_dat['Description'].str.replace('\\n', '', regex=False).str.replace('\"', '', regex=False)\n",
    "\n",
    "# Extract date from Description (4th word)\n",
    "kff_dat['splitvar'] = kff_dat['Description'].str.split().str[3]\n",
    "kff_dat['date_adopted'] = pd.to_datetime(kff_dat['splitvar'], errors='coerce')\n",
    "\n",
    "# Final dataset\n",
    "kff_final = kff_dat[['State', 'expanded', 'date_adopted']]\n",
    "\n",
    "# Save output\n",
    "kff_final.to_csv('data/output/medicaid_expansion.txt', sep='\\t', index=False)\n"
   ]
  }
 ],
 "metadata": {
  "kernelspec": {
   "display_name": "base",
   "language": "python",
   "name": "python3"
  },
  "language_info": {
   "codemirror_mode": {
    "name": "ipython",
    "version": 3
   },
   "file_extension": ".py",
   "mimetype": "text/x-python",
   "name": "python",
   "nbconvert_exporter": "python",
   "pygments_lexer": "ipython3",
   "version": "3.12.7"
  }
 },
 "nbformat": 4,
 "nbformat_minor": 2
}
